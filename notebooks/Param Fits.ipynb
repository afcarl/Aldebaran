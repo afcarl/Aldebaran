{
 "cells": [
  {
   "cell_type": "code",
   "execution_count": 1,
   "metadata": {
    "collapsed": false
   },
   "outputs": [
    {
     "name": "stdout",
     "output_type": "stream",
     "text": [
      "Populating the interactive namespace from numpy and matplotlib\n"
     ]
    }
   ],
   "source": [
    "%pylab inline\n",
    "%config InlineBackend.figure_format = 'retina'"
   ]
  },
  {
   "cell_type": "markdown",
   "metadata": {},
   "source": [
    "This dictionary contains some parameter values from Simbad/VizieR for Aldebaran.  See http://simbad.u-strasbg.fr/simbad/sim-id?Ident=aldebaran&NbIdent=1&Radius=2&Radius.unit=arcmin&submit=submit+id.\n",
    "\n",
    "The format is a two-level dict:\n",
    "\n",
    "* Level 1 contains the name of the parameter (`J`, `H`, `mass`, ...)\n",
    "* Level 2 gives a dict or a list of dicts with at least the entries `value`, `uncert`, `provenance`."
   ]
  },
  {
   "cell_type": "code",
   "execution_count": 4,
   "metadata": {
    "collapsed": false
   },
   "outputs": [],
   "source": [
    "params = {'J': {'value': -2.095,\n",
    "                'uncert': 0.194,\n",
    "                'provenance': \"http://vizier.u-strasbg.fr/viz-bin/VizieR-S?2MASS%20J04355524%2b1630331 2MASS\",\n",
    "                'unit': 'mag'},\n",
    "          'H': {'value': -2.775,\n",
    "                'uncert': 0.170,\n",
    "                'provenance': \"http://vizier.u-strasbg.fr/viz-bin/VizieR-S?2MASS%20J04355524%2b1630331 2MASS\",\n",
    "                'unit': 'mag'},\n",
    "          'K': {'value': -3.044,\n",
    "                'uncert': 0.140,\n",
    "                'provenance': \"http://vizier.u-strasbg.fr/viz-bin/VizieR-S?2MASS%20J04355524%2b1630331 2MASS\",\n",
    "                'unit': 'mag'},\n",
    "          'Teff,logg,Fe_H' : [{'value': (3900,1.3,0.17),\n",
    "                               'uncert': (50, 0.2, 0.1),\n",
    "                               'provenance': \"http://simbad.u-strasbg.fr/simbad/sim-ref?bibcode=2012ApJ...761..161S\",\n",
    "                               'unit': '(K, log_10(m/s^2), dex)'},\n",
    "                              {'value': (3900,1.3,0.05),\n",
    "                               'uncert': (50, 0.2, 0.1),\n",
    "                               'provenance': \"http://simbad.u-strasbg.fr/simbad/sim-ref?bibcode=2012ApJ...761..161S\",\n",
    "                               'unit': '(K, log_10(m/s^2), dex)'},\n",
    "                              {'value': (3870,1.66,-0.04),\n",
    "                               'uncert': (50, 0.2, 0.1),\n",
    "                               'provenance': \"http://simbad.u-strasbg.fr/simbad/sim-ref?bibcode=2011A%26A...531A.165P\",\n",
    "                               'unit': '(K, log_10(m/s^2), dex)'},\n",
    "                              {'value': (3936,1.0,-0.34),\n",
    "                               'uncert': (50, 0.2, 0.1),\n",
    "                               'provenance': \"http://simbad.u-strasbg.fr/simbad/sim-ref?bibcode=2008AJ....135..209M\",\n",
    "                               'unit': '(K, log_10(m/s^2), dex)'},\n",
    "                              {'value': (3850,0.55,-0.10),\n",
    "                               'uncert': (50, 0.2, 0.1),\n",
    "                               'provenance': \"http://simbad.u-strasbg.fr/simbad/sim-ref?bibcode=2009A%26A...508.1313F\",\n",
    "                               'unit': '(K, log_10(m/s^2), dex)'}],\n",
    "         'parallax': {'value': 0.04894,\n",
    "                      'uncert': 0.00017,\n",
    "                      'provenance': \"http://simbad.u-strasbg.fr/simbad/sim-ref?bibcode=2007A%26A...474..653V\",\n",
    "                      'unit': 'arcsec'},\n",
    "         'nu_max': {'value': 2.23,\n",
    "                    'uncert': 0.10,\n",
    "                    'provenance': 'us',\n",
    "                    'unit': 'muHz'}\n",
    "         }"
   ]
  },
  {
   "cell_type": "code",
   "execution_count": null,
   "metadata": {
    "collapsed": true
   },
   "outputs": [],
   "source": []
  }
 ],
 "metadata": {
  "kernelspec": {
   "display_name": "Python [conda root]",
   "language": "python",
   "name": "conda-root-py"
  },
  "language_info": {
   "codemirror_mode": {
    "name": "ipython",
    "version": 3
   },
   "file_extension": ".py",
   "mimetype": "text/x-python",
   "name": "python",
   "nbconvert_exporter": "python",
   "pygments_lexer": "ipython3",
   "version": "3.5.2"
  }
 },
 "nbformat": 4,
 "nbformat_minor": 2
}
