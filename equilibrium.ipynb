{
 "cells": [
  {
   "cell_type": "code",
   "execution_count": 1,
   "metadata": {
    "collapsed": true
   },
   "outputs": [],
   "source": [
    "import numpy as np\n",
    "from astropy import *\n",
    "from astropy.table import Table\n"
   ]
  },
  {
   "cell_type": "code",
   "execution_count": 61,
   "metadata": {},
   "outputs": [
    {
     "name": "stdout",
     "output_type": "stream",
     "text": [
      "0.00465046726096\n"
     ]
    }
   ],
   "source": [
    "M = 1.17\n",
    "P = 628.\n",
    "year = 365.25\n",
    "aearth = 1.\n",
    "rsun = 6.957e8\n",
    "au = 149597870700 # m\n",
    "\n",
    "print rsun/au"
   ]
  },
  {
   "cell_type": "code",
   "execution_count": 62,
   "metadata": {},
   "outputs": [],
   "source": [
    "const = aearth**3 / year**2"
   ]
  },
  {
   "cell_type": "code",
   "execution_count": 63,
   "metadata": {},
   "outputs": [
    {
     "name": "stdout",
     "output_type": "stream",
     "text": [
      "1.43520171971\n"
     ]
    }
   ],
   "source": [
    "a = (P**2 * const)**(1/3.)\n",
    "print a"
   ]
  },
  {
   "cell_type": "code",
   "execution_count": 64,
   "metadata": {},
   "outputs": [
    {
     "name": "stdout",
     "output_type": "stream",
     "text": [
      "1.13383194656\n"
     ]
    }
   ],
   "source": [
    "R = M**0.8\n",
    "print R"
   ]
  },
  {
   "cell_type": "code",
   "execution_count": 65,
   "metadata": {},
   "outputs": [
    {
     "name": "stdout",
     "output_type": "stream",
     "text": [
      "1.96897327138\n"
     ]
    }
   ],
   "source": [
    "def L(M):\n",
    "    logl = 4.328*np.log(M) -0.002\n",
    "    return np.exp(logl)\n",
    "    \n",
    "print L(M)"
   ]
  },
  {
   "cell_type": "code",
   "execution_count": 74,
   "metadata": {},
   "outputs": [
    {
     "name": "stdout",
     "output_type": "stream",
     "text": [
      "6426.69926906\n"
     ]
    }
   ],
   "source": [
    "def teffpred(L,R):\n",
    "    return 5777.*(L/R**2.)**0.25\n",
    "\n",
    "print teffpred(L(M),R)"
   ]
  },
  {
   "cell_type": "code",
   "execution_count": 75,
   "metadata": {
    "collapsed": true
   },
   "outputs": [],
   "source": [
    "def teq(Teff,R,a,f,A):\n",
    "    '''Teff is star, R is stellar radius, a is semimajor axis, A is Bond albedo, f is the \n",
    "    geometric factor of reradiation'''\n",
    "    \n",
    "    return Teff*np.sqrt(R*rsun/2./(a*au))*(f*(1.-A))**0.25"
   ]
  },
  {
   "cell_type": "code",
   "execution_count": 76,
   "metadata": {},
   "outputs": [],
   "source": [
    "tstar = teffpred(L(M),R)"
   ]
  },
  {
   "cell_type": "code",
   "execution_count": 81,
   "metadata": {},
   "outputs": [
    {
     "name": "stdout",
     "output_type": "stream",
     "text": [
      "275.447698188\n"
     ]
    }
   ],
   "source": [
    "tplan = teq(tstar,R,a,2.0,0.5)\n",
    "print tplan"
   ]
  },
  {
   "cell_type": "code",
   "execution_count": 82,
   "metadata": {},
   "outputs": [
    {
     "data": {
      "text/plain": [
       "0.95590322869547595"
      ]
     },
     "execution_count": 82,
     "metadata": {},
     "output_type": "execute_result"
    }
   ],
   "source": [
    "L(M)/(a**2)"
   ]
  },
  {
   "cell_type": "code",
   "execution_count": 83,
   "metadata": {},
   "outputs": [
    {
     "data": {
      "text/plain": [
       "1.133831946557216"
      ]
     },
     "execution_count": 83,
     "metadata": {},
     "output_type": "execute_result"
    }
   ],
   "source": [
    "R"
   ]
  },
  {
   "cell_type": "code",
   "execution_count": 84,
   "metadata": {},
   "outputs": [
    {
     "name": "stdout",
     "output_type": "stream",
     "text": [
      "278.570847443\n"
     ]
    }
   ],
   "source": [
    "## earth\n",
    "\n",
    "Tearth = teq(5777,1,1,2.0,0.5)\n",
    "print Tearth"
   ]
  },
  {
   "cell_type": "code",
   "execution_count": 87,
   "metadata": {
    "collapsed": true
   },
   "outputs": [],
   "source": [
    "mas2rad = 1000*3600*180./np.pi"
   ]
  },
  {
   "cell_type": "code",
   "execution_count": 94,
   "metadata": {},
   "outputs": [
    {
     "name": "stdout",
     "output_type": "stream",
     "text": [
      "0.02058\n"
     ]
    }
   ],
   "source": [
    "## today\n",
    "\n",
    "giant_teff = 3934.\n",
    "\n",
    "distance = 19.34 # pc\n",
    "angular = 20.58e-3\n",
    "print angular\n",
    "\n",
    "linear = angular*distance*(au)/rsun\n",
    "\n"
   ]
  },
  {
   "cell_type": "code",
   "execution_count": 95,
   "metadata": {},
   "outputs": [],
   "source": [
    "tgiant = teq(giant_teff,linear,a,2.0,0.5)"
   ]
  },
  {
   "cell_type": "code",
   "execution_count": 96,
   "metadata": {},
   "outputs": [
    {
     "data": {
      "text/plain": [
       "1464.9196508550642"
      ]
     },
     "execution_count": 96,
     "metadata": {},
     "output_type": "execute_result"
    }
   ],
   "source": [
    "tgiant"
   ]
  },
  {
   "cell_type": "code",
   "execution_count": null,
   "metadata": {
    "collapsed": true
   },
   "outputs": [],
   "source": []
  }
 ],
 "metadata": {
  "kernelspec": {
   "display_name": "Python 2",
   "language": "python",
   "name": "python2"
  },
  "language_info": {
   "codemirror_mode": {
    "name": "ipython",
    "version": 2
   },
   "file_extension": ".py",
   "mimetype": "text/x-python",
   "name": "python",
   "nbconvert_exporter": "python",
   "pygments_lexer": "ipython2",
   "version": "2.7.13"
  }
 },
 "nbformat": 4,
 "nbformat_minor": 2
}
