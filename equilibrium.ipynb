{
 "cells": [
  {
   "cell_type": "code",
   "execution_count": 27,
   "metadata": {},
   "outputs": [
    {
     "name": "stdout",
     "output_type": "stream",
     "text": [
      "Populating the interactive namespace from numpy and matplotlib\n"
     ]
    },
    {
     "name": "stderr",
     "output_type": "stream",
     "text": [
      "/anaconda/lib/python2.7/site-packages/matplotlib/__init__.py:938: UserWarning: axes.color_cycle is deprecated and replaced with axes.prop_cycle; please use the latter.\n",
      "  warnings.warn(self.msg_depr % (key, alt_key))\n"
     ]
    }
   ],
   "source": [
    "import numpy as np\n",
    "import matplotlib \n",
    "import matplotlib as mpl\n",
    "from astropy import *\n",
    "from astropy.table import Table\n",
    "\n",
    "\n",
    "%pylab inline --no-import-all\n",
    "matplotlib.rcParams['image.origin'] = 'lower'\n",
    "matplotlib.rcParams['figure.figsize']=(10.0,10.0)    #(6.0,4.0)\n",
    "matplotlib.rcParams['font.size']=16              #10 \n",
    "matplotlib.rcParams['savefig.dpi']= 200             #72 \n",
    "colours = mpl.rcParams['axes.color_cycle'] \n"
   ]
  },
  {
   "cell_type": "code",
   "execution_count": 2,
   "metadata": {},
   "outputs": [
    {
     "name": "stdout",
     "output_type": "stream",
     "text": [
      "0.00465046726096\n"
     ]
    }
   ],
   "source": [
    "M = 1.17\n",
    "P = 628.\n",
    "year = 365.25\n",
    "aearth = 1.\n",
    "rsun = 6.957e8\n",
    "au = 149597870700 # m\n",
    "\n",
    "print rsun/au"
   ]
  },
  {
   "cell_type": "code",
   "execution_count": 3,
   "metadata": {
    "collapsed": true
   },
   "outputs": [],
   "source": [
    "const = aearth**3 / year**2"
   ]
  },
  {
   "cell_type": "code",
   "execution_count": 4,
   "metadata": {},
   "outputs": [
    {
     "name": "stdout",
     "output_type": "stream",
     "text": [
      "1.43520171971\n"
     ]
    }
   ],
   "source": [
    "a = (P**2 * const)**(1/3.)\n",
    "print a"
   ]
  },
  {
   "cell_type": "code",
   "execution_count": 75,
   "metadata": {},
   "outputs": [
    {
     "name": "stdout",
     "output_type": "stream",
     "text": [
      "1.13383194656\n"
     ]
    }
   ],
   "source": [
    "R = M**0.8\n",
    "print R"
   ]
  },
  {
   "cell_type": "code",
   "execution_count": 76,
   "metadata": {},
   "outputs": [
    {
     "name": "stdout",
     "output_type": "stream",
     "text": [
      "1.96897327138\n"
     ]
    }
   ],
   "source": [
    "def L(M):\n",
    "    logl = 4.328*np.log(M) -0.002\n",
    "    return np.exp(logl)\n",
    "    \n",
    "print L(M)"
   ]
  },
  {
   "cell_type": "code",
   "execution_count": 77,
   "metadata": {},
   "outputs": [
    {
     "name": "stdout",
     "output_type": "stream",
     "text": [
      "6426.69926906\n"
     ]
    }
   ],
   "source": [
    "def teffpred(L,R):\n",
    "    return 5777.*(L/R**2.)**0.25\n",
    "\n",
    "print teffpred(L(M),R)"
   ]
  },
  {
   "cell_type": "code",
   "execution_count": 78,
   "metadata": {
    "collapsed": true
   },
   "outputs": [],
   "source": [
    "def teq(Teff,Rstar,axis,f,A):\n",
    "    '''Teff is star, R is stellar radius, a is semimajor axis, A is Bond albedo, f is the \n",
    "    geometric factor of reradiation'''\n",
    "    \n",
    "    return Teff*np.sqrt(Rstar*rsun/2./(axis*au))*(f*(1.-A))**0.25"
   ]
  },
  {
   "cell_type": "code",
   "execution_count": 79,
   "metadata": {
    "collapsed": true
   },
   "outputs": [],
   "source": [
    "tstar = teffpred(L(M),R)"
   ]
  },
  {
   "cell_type": "code",
   "execution_count": 70,
   "metadata": {},
   "outputs": [
    {
     "name": "stdout",
     "output_type": "stream",
     "text": [
      "275.447698188\n"
     ]
    }
   ],
   "source": [
    "tplan = teq(tstar,R,a,2.0,0.5)\n",
    "print tplan"
   ]
  },
  {
   "cell_type": "code",
   "execution_count": 71,
   "metadata": {},
   "outputs": [
    {
     "data": {
      "text/plain": [
       "0.95590322869547595"
      ]
     },
     "execution_count": 71,
     "metadata": {},
     "output_type": "execute_result"
    }
   ],
   "source": [
    "L(M)/(a**2)"
   ]
  },
  {
   "cell_type": "code",
   "execution_count": 72,
   "metadata": {},
   "outputs": [
    {
     "data": {
      "text/plain": [
       "1.133831946557216"
      ]
     },
     "execution_count": 72,
     "metadata": {},
     "output_type": "execute_result"
    }
   ],
   "source": [
    "R"
   ]
  },
  {
   "cell_type": "code",
   "execution_count": 92,
   "metadata": {},
   "outputs": [
    {
     "name": "stdout",
     "output_type": "stream",
     "text": [
      "304.093930109\n"
     ]
    }
   ],
   "source": [
    "## earth\n",
    "\n",
    "Tearth = teq(5777,1.,1.,2.0,0.29)\n",
    "print Tearth"
   ]
  },
  {
   "cell_type": "code",
   "execution_count": 86,
   "metadata": {},
   "outputs": [
    {
     "name": "stdout",
     "output_type": "stream",
     "text": [
      "260.770140262\n"
     ]
    }
   ],
   "source": [
    "tvenus = teq(5770,1.,0.72,1.0,0.6)\n",
    "print tvenus"
   ]
  },
  {
   "cell_type": "code",
   "execution_count": 14,
   "metadata": {
    "collapsed": true
   },
   "outputs": [],
   "source": [
    "mas2rad = 1000*3600*180./np.pi"
   ]
  },
  {
   "cell_type": "code",
   "execution_count": 15,
   "metadata": {},
   "outputs": [
    {
     "name": "stdout",
     "output_type": "stream",
     "text": [
      "0.02058\n"
     ]
    }
   ],
   "source": [
    "## today\n",
    "\n",
    "giant_teff = 3934.\n",
    "\n",
    "distance = 19.34 # pc\n",
    "angular = 20.58e-3\n",
    "print angular\n",
    "\n",
    "linear = angular*distance*(au)/rsun\n",
    "\n"
   ]
  },
  {
   "cell_type": "code",
   "execution_count": 16,
   "metadata": {
    "collapsed": true
   },
   "outputs": [],
   "source": [
    "tgiant = teq(giant_teff,linear,a,2.0,0.5)"
   ]
  },
  {
   "cell_type": "code",
   "execution_count": 17,
   "metadata": {},
   "outputs": [
    {
     "data": {
      "text/plain": [
       "1464.9196508550642"
      ]
     },
     "execution_count": 17,
     "metadata": {},
     "output_type": "execute_result"
    }
   ],
   "source": [
    "tgiant"
   ]
  },
  {
   "cell_type": "markdown",
   "metadata": {
    "collapsed": true
   },
   "source": [
    "## Now let's use MCMC to get uncertainties on these. We have uncertainties in mass and everthing else is derived from scaling relations."
   ]
  },
  {
   "cell_type": "code",
   "execution_count": 18,
   "metadata": {
    "collapsed": true
   },
   "outputs": [],
   "source": [
    "nmass = 10000\n",
    "masses = 1.17 + np.random.randn(nmass)*0.05"
   ]
  },
  {
   "cell_type": "code",
   "execution_count": 21,
   "metadata": {
    "collapsed": true
   },
   "outputs": [],
   "source": [
    "ells = L(masses)\n",
    "arrs = masses**0.8\n",
    "\n",
    "teffs = teffpred(ells,arrs)"
   ]
  },
  {
   "cell_type": "code",
   "execution_count": null,
   "metadata": {
    "collapsed": true
   },
   "outputs": [],
   "source": [
    "const = aearth**3 / year**2"
   ]
  },
  {
   "cell_type": "code",
   "execution_count": 43,
   "metadata": {
    "collapsed": true
   },
   "outputs": [],
   "source": [
    "axes = (P**2 * const*masses)**(1/3.)"
   ]
  },
  {
   "cell_type": "code",
   "execution_count": 93,
   "metadata": {},
   "outputs": [],
   "source": [
    "teqs = teq(teffs,arrs,axes,2.,0.29)\n"
   ]
  },
  {
   "cell_type": "code",
   "execution_count": 94,
   "metadata": {},
   "outputs": [
    {
     "data": {
      "image/png": "[encoded data removed]",
      "text/plain": [
       "<matplotlib.figure.Figure at 0x113023650>"
      ]
     },
     "metadata": {},
     "output_type": "display_data"
    }
   ],
   "source": [
    "h = plt.hist(teqs,bins=40,label=\"Aldebaran b\")\n",
    "plt.axvline(Tearth,color=colours[1],label=\"Earth\")\n",
    "plt.xlabel(\"Equilibrium Temperature (K)\")\n",
    "plt.ylabel(r\"$p(K|D,I)$\")\n",
    "plt.legend()\n",
    "plt.title('Simple Habitability Calculation',y=1.02)\n",
    "plt.savefig('aldebaran_b_habitability.png')"
   ]
  },
  {
   "cell_type": "code",
   "execution_count": 104,
   "metadata": {},
   "outputs": [
    {
     "name": "stdout",
     "output_type": "stream",
     "text": [
      "292.975985497 11.4113850822\n"
     ]
    }
   ],
   "source": [
    "print np.mean(teqs), np.std(teqs)"
   ]
  },
  {
   "cell_type": "code",
   "execution_count": 99,
   "metadata": {},
   "outputs": [
    {
     "data": {
      "text/plain": [
       "<matplotlib.lines.Line2D at 0x113b13f10>"
      ]
     },
     "execution_count": 99,
     "metadata": {},
     "output_type": "execute_result"
    },
    {
     "data": {
      "image/png": "[encoded data removed]",
      "text/plain": [
       "<matplotlib.figure.Figure at 0x111ce7190>"
      ]
     },
     "metadata": {},
     "output_type": "display_data"
    }
   ],
   "source": [
    "h = plt.hist(ells/axes**2.,bins=50)\n",
    "plt.axvline(1.0)"
   ]
  },
  {
   "cell_type": "code",
   "execution_count": 107,
   "metadata": {},
   "outputs": [
    {
     "name": "stdout",
     "output_type": "stream",
     "text": [
      "0.869431139808 0.13527380381\n"
     ]
    }
   ],
   "source": [
    "print np.mean(ells/(axes**2.)), np.std(ells/(axes**2.))"
   ]
  },
  {
   "cell_type": "code",
   "execution_count": 108,
   "metadata": {},
   "outputs": [
    {
     "name": "stdout",
     "output_type": "stream",
     "text": [
      "1.99719764525 0.367559403971\n"
     ]
    }
   ],
   "source": [
    "print np.mean(ells), np.std(ells)"
   ]
  },
  {
   "cell_type": "code",
   "execution_count": 109,
   "metadata": {},
   "outputs": [
    {
     "name": "stdout",
     "output_type": "stream",
     "text": [
      "1.51215442691 0.0214728413543\n"
     ]
    }
   ],
   "source": [
    "print np.mean(axes), np.std(axes)"
   ]
  },
  {
   "cell_type": "code",
   "execution_count": null,
   "metadata": {
    "collapsed": true
   },
   "outputs": [],
   "source": []
  }
 ],
 "metadata": {
  "kernelspec": {
   "display_name": "Python 2",
   "language": "python",
   "name": "python2"
  },
  "language_info": {
   "codemirror_mode": {
    "name": "ipython",
    "version": 2
   },
   "file_extension": ".py",
   "mimetype": "text/x-python",
   "name": "python",
   "nbconvert_exporter": "python",
   "pygments_lexer": "ipython2",
   "version": "2.7.13"
  }
 },
 "nbformat": 4,
 "nbformat_minor": 2
}
